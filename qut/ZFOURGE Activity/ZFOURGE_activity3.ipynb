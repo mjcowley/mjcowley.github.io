{
 "cells": [
  {
   "cell_type": "markdown",
   "source": [
    "# ZFOURGE Survey Part 3\n",
    "\n",
    "Your first two exercises involved downloading, accessing, and plotting stellar mass versus redshift for galaxies within the CDFS field of the ZFOURGE survey. Please complete these exercises before continuing here. This next activity will see you cross-match X-ray data from NASA's Chandra Observatory, with the goal of identifying galaxies hosting actively accreting supermassive black holes (SMBHs)."
   ],
   "metadata": {
    "collapsed": false
   }
  },
  {
   "cell_type": "markdown",
   "source": [
    "## X-Ray Data\n",
    "\n",
    "From the first activity, you should have also downloaded data from the Chandra Deep Field-South Survey: 4 Ms Source catalogue of [Xue et al. (2011)](https://ui.adsabs.harvard.edu/abs/2011ApJS..195...10X/abstract). This data is available in the file:\n",
    "\n",
    "+ cdfs.v1.6.9.xray.cat ([X-ray sources in ZFOURGE](http://astro.vaporia.com/start/xray.html))\n",
    "\n",
    "I have done the work of cross-matching these sources to ZFOURGE (see [Cowley et al. (2016)](https://ui.adsabs.harvard.edu/abs/2016MNRAS.457..629C/abstract) for my procedure). The IDs in the downloaded X-ray data file correspond to the same IDs in the catalogue files you utilised in the first two activities. If you inspect the X-ray data file, you'll see only a handful of sources have X-ray data. If data is lacking, the value will be given as \"-99\"."
   ],
   "metadata": {
    "collapsed": false
   }
  },
  {
   "cell_type": "markdown",
   "source": [
    "## X-Ray AGN Selection\n",
    "\n",
    "The reason we seek X-ray data is because X-ray emission, from sources at high Galactic latitudes, is predominantly AGN and routinely outshine the highest star-forming galaxies. While this provides an excellent discriminator for AGN selection, heavy obscuration by dense gas around the SMBH  can prove problematic. One way to account for this is by examining the hardness ratio ([HR](http://astro.vaporia.com/start/colormagnitudediagram.html)) of a source, which is defined as the difference in the soft and hard X-ray bands (kind of like a colour index). The HR allows an estimate of absorption in the X-ray band, where obscured AGN are expected to exhibit a harder spectrum than unobscured AGN due to the absorption of soft X-rays by obscuring gas. Considering this, you will select X-ray AGN using both the X-ray luminosity and HR of a source. The X-ray data I provide you includes the HR and flux values. So while you're good to go with HR, you'll need to calculate the luminosity from the flux to select AGN.\n",
    "\n",
    "\n",
    "The rest-frame luminosity of each source can be estimated using Equation 6 from [Cowley et al. (2016)](https://ui.adsabs.harvard.edu/abs/2016MNRAS.457..629C/abstract), where: $$L_{X}[\\text{erg s}^{-1} ]=4\\pi d^{2}_{l}\\left( 1+z\\right)^{\\Gamma -2}  f_{X}$$\n",
    "\n",
    "Here, $d_l$ is the luminosity distance in cm, $f_X$ is the flux in erg cm$^{-2}$s$^{-1}$, and $\\Gamma$ is the photon index, which for this sample is $\\Gamma = 1.4$. The only variable you lack here is the luminosity distance, which we discussed in Lecture 3 of PVB210 (Measuring the Stars). Recall Equation 3.2, where the relationship between the flux of an astronomical source depends on the intrinsic brightness (i.e., luminosity) and its distance from us, according to the inverse square law $F=\\frac{L}{4\\pi d^{2}_{l}}$. For more on the luminosity distance, [see this article](https://ned.ipac.caltech.edu/level5/Hogg/frames.html). The luminosity distance is related to redshift, and can be acquired using my snippet of code below:\n"
   ],
   "metadata": {
    "collapsed": false
   }
  },
  {
   "cell_type": "code",
   "execution_count": 1,
   "outputs": [],
   "source": [
    "from astropy.cosmology import FlatLambdaCDM\n",
    "import numpy as np\n",
    "# Required modules\n",
    "\n",
    "cosmo = FlatLambdaCDM(H0=70, Om0=0.3)\n",
    "# Here, we set a ΛCDM cosmology with H_0 = 70 km/s/Mpc, Ω_M = 0.3, Ω_Λ = 0.7\n",
    "\n",
    "def fxtolx(z, fx, index):\n",
    "# Converts x-ray flux [erg/s/cm^2] to luminosity [erg/s]\n",
    "    print('fx is assumed to be in erg/s/cm^2')\n",
    "    ld = cosmo.luminosity_distance(z).value  # ld[Mpc]\n",
    "    ld *= (3.086 * 10 ** 24)  # ld[cm]\n",
    "    lx = (4 * np.pi * ld ** 2) * fx * (1 + z) ** (index - 2)  # ld[cm], fx[erg/cm^2/s], index = 1.4\n",
    "    data = input('Data dump?: ')\n",
    "    if data == 'y':\n",
    "        np.savetxt('lx', lx)\n",
    "    else:\n",
    "        return lx"
   ],
   "metadata": {
    "collapsed": false
   }
  },
  {
   "cell_type": "markdown",
   "source": [
    "Once you have the luminosity distance for each source, you should use the equation above to obtain the X-ray luminosity for every (possible) source. Finally, you can then use the AGN selection diagnostic below: $$L_{X}>10^{41}\\  \\text{erg s}^{-1} \\  \\text{and HR} \\  >-0.2$$ $$L_{X}>10^{42}\\  \\text{erg s}^{-1} \\  \\text{and HR} \\  \\leqslant -0.2$$"
   ],
   "metadata": {
    "collapsed": false
   }
  },
  {
   "cell_type": "markdown",
   "source": [
    "The luminosity threshold is lower for sources with a stronger HR on account of substantial absorption. n the absence of a HR measurement, you may use $L_{X}>10^{42}$ to select AGN."
   ],
   "metadata": {
    "collapsed": false
   }
  },
  {
   "cell_type": "markdown",
   "source": [
    "## Activity\n",
    "\n",
    "With AGN now identified, produce a plot of X-ray luminosity versus redshift and split the sample between AGN and non-AGN. An example is shown in Figure 3 of [Cowley et al. (2016)](https://ui.adsabs.harvard.edu/abs/2016MNRAS.457..629C/abstract). As usual, please email your completed Jupyter Notebook and plot with a short explanation about what it is communicating."
   ],
   "metadata": {
    "collapsed": false
   }
  },
  {
   "cell_type": "code",
   "execution_count": null,
   "outputs": [],
   "source": [],
   "metadata": {
    "collapsed": false
   }
  }
 ],
 "metadata": {
  "kernelspec": {
   "display_name": "Python 3",
   "language": "python",
   "name": "python3"
  },
  "language_info": {
   "codemirror_mode": {
    "name": "ipython",
    "version": 2
   },
   "file_extension": ".py",
   "mimetype": "text/x-python",
   "name": "python",
   "nbconvert_exporter": "python",
   "pygments_lexer": "ipython2",
   "version": "2.7.6"
  }
 },
 "nbformat": 4,
 "nbformat_minor": 0
}
