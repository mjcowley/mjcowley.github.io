{
 "cells": [
  {
   "cell_type": "markdown",
   "source": [
    "# ZFOURGE Survey Part 2\n",
    "\n",
    "Your first exercise was to reproduce the CDFS plot in Figure 24 of the ZFOURGE catalogue paper. This is a plot of galaxy stellar mass versus redshift. Please complete this exercise before continuing here. This next activity will see you incorporate quality flags to remove photometrically poor sources from your plot."
   ],
   "metadata": {
    "collapsed": false,
    "pycharm": {
     "name": "#%% md\n"
    }
   }
  },
  {
   "cell_type": "markdown",
   "source": [
    "## Quality Flags\n",
    "\n",
    "Within the CDFS photometric catalogue file 'cdfs.v1.6.11.cat' you will find a column of data referred to as “use”:"
   ],
   "metadata": {
    "collapsed": false,
    "pycharm": {
     "name": "#%% md\n"
    }
   }
  },
  {
   "cell_type": "code",
   "execution_count": 1,
   "outputs": [],
   "source": [
    "import numpy as np\n",
    "catalog_cdfs = np.genfromtxt('cdfs.v1.6.11.cat', names=True)"
   ],
   "metadata": {
    "collapsed": false,
    "pycharm": {
     "name": "#%%\n"
    }
   }
  },
  {
   "cell_type": "code",
   "execution_count": 2,
   "outputs": [
    {
     "name": "stdout",
     "output_type": "stream",
     "text": [
      "('id', 'x', 'y', 'ra', 'dec', 'SEflags', 'iso_area', 'fap_Ksall', 'eap_Ksall', 'apcorr', 'Ks_ratio', 'fapcirc07_Ksall', 'eapcirc07_Ksall', 'apcorr07', 'fcirc07_Ksall', 'ecirc07_Ksall', 'fauto_Ksall', 'flux50_radius', 'a_vector', 'b_vector', 'kron_radius', 'f_Ksall', 'e_Ksall', 'w_Ksall', 'f_B', 'e_B', 'w_B', 'f_I', 'e_I', 'w_I', 'f_R', 'e_R', 'w_R', 'f_U', 'e_U', 'w_U', 'f_V', 'e_V', 'w_V', 'f_Z', 'e_Z', 'w_Z', 'f_Hs', 'e_Hs', 'w_Hs', 'f_Hl', 'e_Hl', 'w_Hl', 'f_J1', 'e_J1', 'w_J1', 'f_J2', 'e_J2', 'w_J2', 'f_J3', 'e_J3', 'w_J3', 'f_Ks', 'e_Ks', 'w_Ks', 'f_KsHI', 'e_KsHI', 'w_KsHI', 'f_NB118', 'e_NB118', 'w_NB118', 'f_NB209', 'e_NB209', 'w_NB209', 'f_F098M', 'e_F098M', 'w_F098M', 'f_F105W', 'e_F105W', 'w_F105W', 'f_F125W', 'e_F125W', 'w_F125W', 'f_F140W', 'e_F140W', 'w_F140W', 'f_F160W', 'e_F160W', 'w_F160W', 'f_F814W', 'e_F814W', 'w_F814W', 'f_IA484', 'e_IA484', 'w_IA484', 'f_IA527', 'e_IA527', 'w_IA527', 'f_IA574', 'e_IA574', 'w_IA574', 'f_IA598', 'e_IA598', 'w_IA598', 'f_IA624', 'e_IA624', 'w_IA624', 'f_IA651', 'e_IA651', 'w_IA651', 'f_IA679', 'e_IA679', 'w_IA679', 'f_IA738', 'e_IA738', 'w_IA738', 'f_IA767', 'e_IA767', 'w_IA767', 'f_IA797', 'e_IA797', 'w_IA797', 'f_IA856', 'e_IA856', 'w_IA856', 'f_WFI_V', 'e_WFI_V', 'w_WFI_V', 'f_WFI_Rc', 'e_WFI_Rc', 'w_WFI_Rc', 'f_WFI_U38', 'e_WFI_U38', 'w_WFI_U38', 'f_tenisK', 'e_tenisK', 'w_tenisK', 'f_IRAC_36', 'e_IRAC_36', 'w_IRAC_36', 'f_IRAC_45', 'e_IRAC_45', 'w_IRAC_45', 'f_IRAC_58', 'e_IRAC_58', 'w_IRAC_58', 'f_IRAC_80', 'e_IRAC_80', 'w_IRAC_80', 'wmin_optical', 'wmin_hst_optical', 'wmin_fs', 'wmin_jhk', 'wmin_hst', 'wmin_irac', 'wmin_all', 'star', 'nearstar', 'use', 'snr', 'use_nosnr', 'z_spec')\n"
     ]
    }
   ],
   "source": [
    "print(catalog_cdfs.dtype.names)"
   ],
   "metadata": {
    "collapsed": false,
    "pycharm": {
     "name": "#%%\n"
    }
   }
  },
  {
   "cell_type": "code",
   "execution_count": 3,
   "outputs": [],
   "source": [
    "use = catalog_cdfs['use']"
   ],
   "metadata": {
    "collapsed": false,
    "pycharm": {
     "name": "#%%\n"
    }
   }
  },
  {
   "cell_type": "code",
   "execution_count": 4,
   "outputs": [
    {
     "name": "stdout",
     "output_type": "stream",
     "text": [
      "[0. 0. 0. ... 0. 1. 0.]\n"
     ]
    }
   ],
   "source": [
    "print(use)"
   ],
   "metadata": {
    "collapsed": false,
    "pycharm": {
     "name": "#%%\n"
    }
   }
  },
  {
   "cell_type": "markdown",
   "source": [
    "Galaxies are assigned a use flag of 1 (i.e. use==1) if they meet the following criteria:\n",
    "\n",
    "+ The galaxy hasn't been misidentified as a star\n",
    "+ The galaxy isn't too close to the line-of-sight of a bright star\n",
    "+ The signal to noise ratio If greater than five\n",
    "+ There were enough data points to adequately determine a good redshift\n",
    "\n",
    "If a galaxy fails one of the above, it is assigned a use flag of 0 (i.e. use==0)."
   ],
   "metadata": {
    "collapsed": false,
    "pycharm": {
     "name": "#%% md\n"
    }
   }
  },
  {
   "cell_type": "markdown",
   "source": [
    "## Activity\n",
    "\n",
    "I'd like you to now modify the plot you produced in the first activity to a standard scatter plot, but with use==1 galaxies as green points and use==0 as red points. I’d also like you to provide me a simple percentage of how many galaxies in CDFS are considered use==1 in your sample. You already have all the data on hand, so there's no need to download anything new. You should also have the skills necessary to produce this plot without needing to dig through any more of my guides. However, feel free to reach out if you run into any difficulty. As usual, please email your completed Jupyter Notebook and plot with a short explanation about what it is communicating."
   ],
   "metadata": {
    "collapsed": false,
    "pycharm": {
     "name": "#%% md\n"
    }
   }
  },
  {
   "cell_type": "code",
   "execution_count": null,
   "outputs": [],
   "source": [],
   "metadata": {
    "collapsed": false,
    "pycharm": {
     "name": "#%%\n"
    }
   }
  }
 ],
 "metadata": {
  "kernelspec": {
   "display_name": "Python 3",
   "language": "python",
   "name": "python3"
  },
  "language_info": {
   "codemirror_mode": {
    "name": "ipython",
    "version": 2
   },
   "file_extension": ".py",
   "mimetype": "text/x-python",
   "name": "python",
   "nbconvert_exporter": "python",
   "pygments_lexer": "ipython2",
   "version": "2.7.6"
  }
 },
 "nbformat": 4,
 "nbformat_minor": 0
}