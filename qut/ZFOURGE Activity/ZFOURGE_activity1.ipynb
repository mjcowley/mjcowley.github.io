{
 "cells": [
  {
   "cell_type": "markdown",
   "source": [
    "# ZFOURGE Survey Part 1\n",
    "\n",
    "Before you begin, you should start by reading the ZFOURGE catalogue paper, which is available from the [NASA Astrophysics Database System](htps://ui.adsabs.harvard.edu/abs/2016ApJ...830...51S/abstract). Given this is a research paper, you will likely come across many new words you're not familiar with – don't let that frighten you! Digest what you can, and you'll be surprised how much you will pick up throughout the course of this project."
   ],
   "metadata": {
    "collapsed": false
   }
  },
  {
   "cell_type": "markdown",
   "source": [
    "## Downloading the Data\n",
    "The ZFOURGE data is available from a number of places, including the [Virtual Observatory](https://cdsarc.cds.unistra.fr/viz-bin/cat/J/ApJ/830/51). However, I recommend you acquire direct from the source - our [survey website](https://mjcowley.github.io/zfourge/). For now, select the CDFS catalogue (not the images). The catalogue data is provided in a tarball, which has been comrpessed. Most popular compression suites will be able to extract this file for you (e.g. [7zip](https://www.7-zip.org/download.html))"
   ],
   "metadata": {
    "collapsed": false
   }
  },
  {
   "cell_type": "markdown",
   "source": [
    "## Catalogue Files\n",
    "Once uncompressed, you will be presented with numerous folders and files. For now, you will only want the files ending in \".cat\". Below is a list of the files you will use. Be sure to review the \"readme\" directory for more information:\n",
    "\n",
    "+ cdfs.v1.6.11.cat ([flux values](http://astro.vaporia.com/start/flux.html))\n",
    "+ cdfs.v1.6.9.zout ([cosmological redshift values](http://astro.vaporia.com/start/redshift.html))\n",
    "+ cdfs.v1.6.9.fout ([stellar masses values](http://astro.vaporia.com/start/mass.html))\n",
    "+ cdfs.v1.6.9.xray.cat ([X-ray sources in ZFOURGE](http://astro.vaporia.com/start/xray.html))\n",
    "\n",
    "Be sure to click the links above to learn more about these values."
   ],
   "metadata": {
    "collapsed": false
   }
  },
  {
   "cell_type": "markdown",
   "source": [
    "## Activity\n",
    "You now have all the data you will need for this activity. Using the knowledge you gained during my \"Introduction to Python\" tutorials, you should now attempt to import the data into Python and begin manipulating. Your first exercise is to reproduce the CDFS plot in Figure 24 of the ZFOURGE catalogue paper (shown below)\n",
    "\n",
    "![Figure 24](https://mjcowley.github.io/qut/Images/Mass_vs_Redshift.png)"
   ],
   "metadata": {
    "collapsed": false
   }
  },
  {
   "cell_type": "markdown",
   "source": [
    "You only need to reproduce the first panel (CDFS). As you can see, this is a plot of stellar mass versus redshift. Therefore, you will need two columns of data:\n",
    "+ Galaxy stellar mass\n",
    "+ Galaxy cosmological redshifts\n",
    "\n",
    "I will assist with the redshift data. Referring to my comments above, recall that the cosmological redshift data can be found in the 'cdfs.v1.6.9.zout' file. Let's try to import that file here:"
   ],
   "metadata": {
    "collapsed": false
   }
  },
  {
   "cell_type": "code",
   "execution_count": 5,
   "outputs": [],
   "source": [
    "import numpy as np\n",
    "zout_cdfs = np.genfromtxt('cdfs.v1.6.9.zout', names=True)"
   ],
   "metadata": {
    "collapsed": false
   }
  },
  {
   "cell_type": "markdown",
   "source": [
    "I now have a NumPy array, which contains the data I'm looking for. Let's review each of the columns of this array:"
   ],
   "metadata": {
    "collapsed": false
   }
  },
  {
   "cell_type": "code",
   "execution_count": 6,
   "outputs": [
    {
     "name": "stdout",
     "output_type": "stream",
     "text": [
      "('id', 'z_spec', 'z_a', 'z_m1', 'chi_a', 'z_p', 'chi_p', 'z_m2', 'odds', 'l68', 'u68', 'l95', 'u95', 'l99', 'u99', 'nfilt', 'q_z', 'z_peak', 'peak_prob', 'z_mc')\n"
     ]
    }
   ],
   "source": [
    "print(zout_cdfs.dtype.names)"
   ],
   "metadata": {
    "collapsed": false
   }
  },
  {
   "cell_type": "markdown",
   "source": [
    "What does all of this mean? Well, these columns are various calculations for cosmological redshift. You can read the details of these columns in Table 7 of the ZFOURGE catalogue paper. In this case, we want to work with the 'default derived photometric redshift'. According to Table 7, this is the column named 'z_peak':"
   ],
   "metadata": {
    "collapsed": false
   }
  },
  {
   "cell_type": "code",
   "execution_count": 7,
   "outputs": [],
   "source": [
    "redshift = zout_cdfs['z_peak']"
   ],
   "metadata": {
    "collapsed": false
   }
  },
  {
   "cell_type": "code",
   "execution_count": 8,
   "outputs": [
    {
     "name": "stdout",
     "output_type": "stream",
     "text": [
      "[0.6165 0.4341 0.9542 ... 3.0826 2.3394 2.2854]\n"
     ]
    }
   ],
   "source": [
    "print(redshift)"
   ],
   "metadata": {
    "collapsed": false
   }
  },
  {
   "cell_type": "markdown",
   "source": [
    "I now have an array called 'redshift'. The next step is to create a column for the stellar mass and then plot the data in a similar fashion to Figure 24 above (ignore the red completeness limit line). For assistance with plotting, be sure to review some of the 'Matplotlib' links on my [resource page](https://mjcowley.github.io/resources/). Once done, please email me your completed Jupyter Notebook and plot along with a brief explanation about what the plot is communicating. Also be sure to comment on any trends you see in the data."
   ],
   "metadata": {
    "collapsed": false
   }
  },
  {
   "cell_type": "code",
   "execution_count": null,
   "outputs": [],
   "source": [],
   "metadata": {
    "collapsed": false
   }
  }
 ],
 "metadata": {
  "kernelspec": {
   "display_name": "Python 3",
   "language": "python",
   "name": "python3"
  },
  "language_info": {
   "codemirror_mode": {
    "name": "ipython",
    "version": 2
   },
   "file_extension": ".py",
   "mimetype": "text/x-python",
   "name": "python",
   "nbconvert_exporter": "python",
   "pygments_lexer": "ipython2",
   "version": "2.7.6"
  }
 },
 "nbformat": 4,
 "nbformat_minor": 0
}
