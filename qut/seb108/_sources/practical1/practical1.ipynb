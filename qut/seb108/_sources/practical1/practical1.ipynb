{
 "cells": [
  {
   "metadata": {},
   "cell_type": "markdown",
   "source": "# Practical 1: An Introduction to Python",
   "id": "3a4271135a71e6f2"
  },
  {
   "metadata": {},
   "cell_type": "markdown",
   "source": [
    "<br>\n",
    "<img src=\"https://mjcowley.github.io/images/python.png\" alt=\"Python Logo\" width=\"300\"/>\n",
    "<br><br>"
   ],
   "id": "f2e2c38b7844c1b2"
  },
  {
   "metadata": {},
   "cell_type": "markdown",
   "source": "Welcome to this introductory notebook designed to familiarise newcomers with the essentials of [Python](https://www.python.org/). Python is renowned for its readability, simplicity, and the extensive range of libraries it offers, such as [NumPy](https://numpy.org/) for numerical computations, [pandas](https://pandas.pydata.org/) for data manipulation, and [Matplotlib](https://matplotlib.org/) for visualisation. These tools significantly simplify the tasks of data analysis and visualisation. This guide aims to introduce you to the fundamental concepts of Python, showcase these critical libraries, and their practical uses within Google Colab.",
   "id": "bf90b07349417c19"
  },
  {
   "metadata": {},
   "cell_type": "markdown",
   "source": [
    "<br>\n",
    "<img src=\"https://mjcowley.github.io/images/colab.png\" alt=\"Colab Logo\" width=\"300\"/>\n",
    "<br><br>"
   ],
   "id": "6f85517e9ba4de61"
  },
  {
   "metadata": {},
   "cell_type": "markdown",
   "source": "**Google Colab**, or **Colaboratory**, presented by Google Research, is a cloud-based [Jupyter notebook](https://jupyter.org/) service that allows the execution of Python (and R) code directly in your web browser, with no setup required. It’s a valuable resource for collaborative projects, education, or any data science projects, thanks to its ease of use and no-cost access. Colab integrates seamlessly with Google Drive, making it straightforward to store, access, and share your datasets, notebooks, and other files. For beginners to cloud-based development environments, starting with Google Colab is an excellent introduction to the world of collaborative coding platforms. Utilising a Google account to store and manage your datasets in Google Colab is perhaps the most straightforward method for those new to the platform. If you don’t have a Google account yet, you can sign up for free [here](https://www.google.com/account/about/).\n",
   "id": "4cf920578ce0e73f"
  },
  {
   "metadata": {},
   "cell_type": "markdown",
   "source": [
    "Below are the steps for setting up a Google Colab environment for working with Python:\n",
    "\n",
    "1. Open your web browser and navigate to [Google Colab](https://colab.research.google.com/).\n",
    "2. Sign in to your Google account.\n",
    "3. Click on `File` in the top left corner, then `New notebook`.\n",
    "4. By default, new notebooks are set up for Python, but you can change this by clicking on `Runtime` in the top left corner, then `Change runtime type`.\n",
    "5. To ensure everything is working correctly, run the following code in a code cell:"
   ],
   "id": "8cda588f4840024a"
  },
  {
   "metadata": {
    "ExecuteTime": {
     "end_time": "2024-12-12T06:22:42.092624Z",
     "start_time": "2024-12-12T06:22:42.084178Z"
    },
    "tags": [
     "hide-output"
    ]
   },
   "cell_type": "code",
   "source": "print(\"Hello, World!\")",
   "id": "e07e8c4e33ae2ca5",
   "outputs": [
    {
     "name": "stdout",
     "output_type": "stream",
     "text": [
      "Hello, World!\n"
     ]
    }
   ],
   "execution_count": 1
  },
  {
   "metadata": {},
   "cell_type": "markdown",
   "source": "For more assistance with Google Colab, be sure to watch the recording below (~3 mins)",
   "id": "36f3916b4f9047fb"
  },
  {
   "metadata": {},
   "cell_type": "markdown",
   "source": [
    "<div align=\"center\">\n",
    "    <iframe width=\"560\" height=\"315\" src=\"https://www.youtube.com/embed/inN8seMm7UI\" title=\"Google Colab Introduction\" frameborder=\"0\" allow=\"accelerometer; autoplay; clipboard-write; encrypted-media; gyroscope; picture-in-picture\" allowfullscreen></iframe>\n",
    "</div>"
   ],
   "id": "a93ae49421f5a3f0"
  },
  {
   "metadata": {},
   "cell_type": "markdown",
   "source": "You are also encouraged to read through [Chapter 1 of Python for Data Analysis 3rd Edition](https://wesmckinney.com/book/preliminaries), which is a text book also available as an [Open Access](https://wesmckinney.com/book/) HTML site. This chapter covers preliminary concepts essential for working with Python, including setting up your environment, understanding Python syntax, and using Jupyter notebooks. It also provides guidance on installing necessary packages and managing your Python environment efficiently. Reviewing this material will ensure you're well-prepared to engage with more advanced topics in our upcoming lectures.",
   "id": "e648f2badd6555b6"
  },
  {
   "metadata": {},
   "cell_type": "markdown",
   "source": [
    "While Google Colab offers an excellent platform for working with Python, you are welcome and encouraged to explore [IDEs](http://wiki.python.org/moin/IntegratedDevelopmentEnvironments) and [text editors](http://wiki.python.org/moin/PythonEditors) tailored for Python development, dive into a range of [introductory books](http://wiki.python.org/moin/IntroductoryBooks), or review beneficial [code samples](http://wiki.python.org/moin/BeginnersGuide/Examples).\n",
    "\n",
    "```{note}\n",
    "For those already familiar with programming, a collection of tutorials tailored to experienced coders can be found on the offical [BeginnersGuide/Tutorials page](http://wiki.python.org/moin/BeginnersGuide/Programmers). Additionally, [resources available in languages other than English](https://www.python.org/doc/nonenglish/) might be handy if English isn't your primary language.\n",
    "```"
   ],
   "id": "eb6a8db194f8f9e2"
  }
 ],
 "metadata": {
  "kernelspec": {
   "display_name": "Python 3",
   "language": "python",
   "name": "python3"
  },
  "language_info": {
   "codemirror_mode": {
    "name": "ipython",
    "version": 2
   },
   "file_extension": ".py",
   "mimetype": "text/x-python",
   "name": "python",
   "nbconvert_exporter": "python",
   "pygments_lexer": "ipython2",
   "version": "2.7.6"
  }
 },
 "nbformat": 4,
 "nbformat_minor": 5
}
