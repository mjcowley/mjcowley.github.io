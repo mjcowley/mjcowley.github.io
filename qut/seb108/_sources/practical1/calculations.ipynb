{
 "cells": [
  {
   "metadata": {},
   "cell_type": "markdown",
   "source": "### Python Calculations",
   "id": "3ecc72c6a5dd1eb6"
  },
  {
   "metadata": {},
   "cell_type": "markdown",
   "source": "Let’s start by exploring what a *declaration* means. Python functions like an advanced calculator capable of handling complex computations. Many Python programs are essentially a series of basic mathematical operations performed on data. To work with more complex data than what a regular calculator allows, Python provides the ability to create variables. These variables serve as placeholders to store values for later use. Execute the cells below in order:",
   "id": "2050b6c071abacf2"
  },
  {
   "metadata": {
    "ExecuteTime": {
     "end_time": "2024-12-12T22:22:55.985664Z",
     "start_time": "2024-12-12T22:22:55.983232Z"
    }
   },
   "cell_type": "code",
   "source": "variable_1 = 2",
   "id": "e9beb4f2629e4ce7",
   "outputs": [],
   "execution_count": 1
  },
  {
   "metadata": {
    "ExecuteTime": {
     "end_time": "2024-12-12T22:22:55.996644Z",
     "start_time": "2024-12-12T22:22:55.994564Z"
    }
   },
   "cell_type": "code",
   "source": "variable_2 = 3",
   "id": "fae26fabb620a0ad",
   "outputs": [],
   "execution_count": 2
  },
  {
   "metadata": {
    "ExecuteTime": {
     "end_time": "2024-12-12T22:22:56.046075Z",
     "start_time": "2024-12-12T22:22:56.043935Z"
    }
   },
   "cell_type": "code",
   "source": "output_1 = variable_1 + variable_2",
   "id": "890b0f804c9d7536",
   "outputs": [],
   "execution_count": 3
  },
  {
   "metadata": {},
   "cell_type": "markdown",
   "source": "What do you think the value of `output_1` will be? Clicl on the `Show code cell output` button to reveal the answer.",
   "id": "35c0dac4de02080c"
  },
  {
   "metadata": {
    "tags": [
     "hide-output"
    ],
    "ExecuteTime": {
     "end_time": "2024-12-12T22:22:56.054949Z",
     "start_time": "2024-12-12T22:22:56.052807Z"
    }
   },
   "cell_type": "code",
   "source": "print(output_1)",
   "id": "da5344c2b4ef0b67",
   "outputs": [
    {
     "name": "stdout",
     "output_type": "stream",
     "text": [
      "5\n"
     ]
    }
   ],
   "execution_count": 4
  },
  {
   "metadata": {},
   "cell_type": "markdown",
   "source": [
    "I simply saved the numbers 2 and 3 into variables, choosing the basic names 'variable_1' and 'variable_2', and then calculated their sum. Notice the underscore in the variable names. **Spaces_aren't_allowed_in_variable_names**, so underscores are commonly used instead. We'll discuss variable naming best practices later on.\n",
    "\n",
    "You might wonder, ''Why bother declaring those variables and then adding them, instead of directly calculating:''"
   ],
   "id": "c65b9214d4dc8c0f"
  },
  {
   "metadata": {
    "tags": [
     "hide-output"
    ],
    "ExecuteTime": {
     "end_time": "2024-12-12T22:22:56.067035Z",
     "start_time": "2024-12-12T22:22:56.062816Z"
    }
   },
   "cell_type": "code",
   "source": "2+3",
   "id": "1811ae2966234564",
   "outputs": [
    {
     "data": {
      "text/plain": [
       "5"
      ]
     },
     "execution_count": 5,
     "metadata": {},
     "output_type": "execute_result"
    }
   ],
   "execution_count": 5
  },
  {
   "metadata": {},
   "cell_type": "markdown",
   "source": "In this instance, you're spot on. If my goal was simply to find the sum of 2 and 3, I could have directly inputted it. Moreover, should there have been a need to store that result, I could have easily done so:",
   "id": "f336cd0dc8362ebd"
  },
  {
   "metadata": {
    "ExecuteTime": {
     "end_time": "2024-12-12T22:22:56.124805Z",
     "start_time": "2024-12-12T22:22:56.122546Z"
    }
   },
   "cell_type": "code",
   "source": "output_2 = 2+3",
   "id": "c7252c956447493f",
   "outputs": [],
   "execution_count": 6
  },
  {
   "metadata": {},
   "cell_type": "markdown",
   "source": "And now, I can at any time look at that:",
   "id": "23f4fa3bc1064156"
  },
  {
   "metadata": {
    "tags": [
     "hide-output"
    ],
    "ExecuteTime": {
     "end_time": "2024-12-12T22:22:56.135577Z",
     "start_time": "2024-12-12T22:22:56.133140Z"
    }
   },
   "cell_type": "code",
   "source": "print(output_2)",
   "id": "f98fb76750d92af0",
   "outputs": [
    {
     "name": "stdout",
     "output_type": "stream",
     "text": [
      "5\n"
     ]
    }
   ],
   "execution_count": 7
  },
  {
   "metadata": {},
   "cell_type": "markdown",
   "source": "Or, I can use it in further calculations:",
   "id": "685c6492d5e3eaf7"
  },
  {
   "metadata": {
    "ExecuteTime": {
     "end_time": "2024-12-12T22:22:56.151118Z",
     "start_time": "2024-12-12T22:22:56.148664Z"
    }
   },
   "cell_type": "code",
   "source": "output_3 = output_1 + output_2",
   "id": "d92c4c2d271f853d",
   "outputs": [],
   "execution_count": 8
  },
  {
   "metadata": {
    "tags": [
     "hide-output"
    ],
    "ExecuteTime": {
     "end_time": "2024-12-12T22:22:56.163123Z",
     "start_time": "2024-12-12T22:22:56.160333Z"
    }
   },
   "cell_type": "code",
   "source": "print(output_3)",
   "id": "e6249be30e7fa038",
   "outputs": [
    {
     "name": "stdout",
     "output_type": "stream",
     "text": [
      "10\n"
     ]
    }
   ],
   "execution_count": 9
  },
  {
   "metadata": {},
   "cell_type": "markdown",
   "source": "This is a great opportunity to explore the basic mathematical operations Python offers, two of which we've already encountered. The following lists the basic mathematical operations in Python:",
   "id": "ec4b2ff6ea5de36f"
  },
  {
   "metadata": {
    "ExecuteTime": {
     "end_time": "2024-12-12T22:22:56.174522Z",
     "start_time": "2024-12-12T22:22:56.171411Z"
    }
   },
   "cell_type": "code",
   "source": [
    "addition = 5 + 5\n",
    "subtraction = 5 - 5\n",
    "multiplication = 5 * 5\n",
    "division = 5 / 6\n",
    "exponentiation = 5**2\n",
    "modulus = 5 % 3"
   ],
   "id": "8229dfdff9bbedb2",
   "outputs": [],
   "execution_count": 10
  },
  {
   "metadata": {},
   "cell_type": "markdown",
   "source": "Let's print out the results of these operations:",
   "id": "cab0417db93414bb"
  },
  {
   "metadata": {
    "tags": [
     "hide-output"
    ],
    "ExecuteTime": {
     "end_time": "2024-12-12T22:22:56.189972Z",
     "start_time": "2024-12-12T22:22:56.187321Z"
    }
   },
   "cell_type": "code",
   "source": [
    "print(\"Addition: \", addition)\n",
    "print(\"Subtraction: \", subtraction)\n",
    "print(\"Multiplication: \", multiplication)\n",
    "print(\"Division: \", division)\n",
    "print(\"Exponentiation: \", exponentiation)\n",
    "print(\"Modulus: \", modulus)"
   ],
   "id": "6717ef7096842429",
   "outputs": [
    {
     "name": "stdout",
     "output_type": "stream",
     "text": [
      "Addition:  10\n",
      "Subtraction:  0\n",
      "Multiplication:  25\n",
      "Division:  0.8333333333333334\n",
      "Exponentiation:  25\n",
      "Modulus:  2\n"
     ]
    }
   ],
   "execution_count": 11
  },
  {
   "metadata": {},
   "cell_type": "markdown",
   "source": "Division always returns a float, even if the result is a whole number. If you want to return an integer, you can use the `//` operator:",
   "id": "add0bc86b8f4a176"
  },
  {
   "metadata": {
    "ExecuteTime": {
     "end_time": "2024-12-12T22:22:56.202678Z",
     "start_time": "2024-12-12T22:22:56.199629Z"
    }
   },
   "cell_type": "code",
   "source": "division_int = 5 // 6",
   "id": "2d580532b86235c6",
   "outputs": [],
   "execution_count": 12
  },
  {
   "metadata": {
    "tags": [
     "hide-output"
    ],
    "ExecuteTime": {
     "end_time": "2024-12-12T22:22:56.218288Z",
     "start_time": "2024-12-12T22:22:56.214665Z"
    }
   },
   "cell_type": "code",
   "source": "print(\"Division (int): \", division_int)",
   "id": "43d49cb5c598750b",
   "outputs": [
    {
     "name": "stdout",
     "output_type": "stream",
     "text": [
      "Division (int):  0\n"
     ]
    }
   ],
   "execution_count": 13
  },
  {
   "metadata": {},
   "cell_type": "markdown",
   "source": "Another useful operation is the `round()` function, which rounds a float to the nearest whole number:",
   "id": "d6c7cadc2612fe7"
  },
  {
   "metadata": {
    "ExecuteTime": {
     "end_time": "2024-12-12T22:22:56.240067Z",
     "start_time": "2024-12-12T22:22:56.236321Z"
    }
   },
   "cell_type": "code",
   "source": "round(5/6)",
   "id": "4dbb6ace15a9ad06",
   "outputs": [
    {
     "data": {
      "text/plain": [
       "1"
      ]
     },
     "execution_count": 14,
     "metadata": {},
     "output_type": "execute_result"
    }
   ],
   "execution_count": 14
  },
  {
   "metadata": {},
   "cell_type": "markdown",
   "source": "I can also specify the number of decimal places to round to:",
   "id": "955235b0fb3f071d"
  },
  {
   "metadata": {
    "ExecuteTime": {
     "end_time": "2024-12-12T22:22:56.259863Z",
     "start_time": "2024-12-12T22:22:56.255796Z"
    }
   },
   "cell_type": "code",
   "source": "round(5/6, 2)",
   "id": "3f093ecd338131ad",
   "outputs": [
    {
     "data": {
      "text/plain": [
       "0.83"
      ]
     },
     "execution_count": 15,
     "metadata": {},
     "output_type": "execute_result"
    }
   ],
   "execution_count": 15
  },
  {
   "metadata": {},
   "cell_type": "markdown",
   "source": "Also, the `abs()` function returns the absolute value of a number:",
   "id": "7be3b79f8e105e39"
  },
  {
   "metadata": {
    "tags": [
     "hide-output"
    ],
    "ExecuteTime": {
     "end_time": "2024-12-12T22:24:19.401653Z",
     "start_time": "2024-12-12T22:24:19.379942Z"
    }
   },
   "cell_type": "code",
   "source": "abs(-5)",
   "id": "d9d8611a725460f9",
   "outputs": [
    {
     "data": {
      "text/plain": [
       "5"
      ]
     },
     "execution_count": 16,
     "metadata": {},
     "output_type": "execute_result"
    }
   ],
   "execution_count": 16
  },
  {
   "metadata": {},
   "cell_type": "markdown",
   "source": "That's about it for basic mathematical operations. Next, let's test your understanding with an exercise.",
   "id": "268ad066b3cb2886"
  }
 ],
 "metadata": {
  "kernelspec": {
   "display_name": "Python 3",
   "language": "python",
   "name": "python3"
  },
  "language_info": {
   "codemirror_mode": {
    "name": "ipython",
    "version": 2
   },
   "file_extension": ".py",
   "mimetype": "text/x-python",
   "name": "python",
   "nbconvert_exporter": "python",
   "pygments_lexer": "ipython2",
   "version": "2.7.6"
  }
 },
 "nbformat": 4,
 "nbformat_minor": 5
}
