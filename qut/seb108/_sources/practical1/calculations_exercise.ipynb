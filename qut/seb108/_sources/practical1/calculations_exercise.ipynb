{
 "cells": [
  {
   "metadata": {},
   "cell_type": "markdown",
   "source": "# Calculations Exercise",
   "id": "7050483aa6ff5637"
  },
  {
   "metadata": {},
   "cell_type": "markdown",
   "source": [
    "<br>\n",
    "<img src=\"https://mjcowley.github.io/images/exercise_python.png\" alt=\"Exercise\" width=\"600\"/>\n",
    "<br><br>"
   ],
   "id": "4cb3b750658f7ef2"
  },
  {
   "metadata": {},
   "cell_type": "markdown",
   "source": "In the box below, create three variables which hold your age and the ages of two other people you know. Then, set a variable named \"age_average\" that is equal to the average of your three ages. Be careful of order of operations! You can group operations, just like in [PEMDAS](https://www.mathsisfun.com/operation-order-pemdas.html) math, using soft parenthesis \"()\".",
   "id": "d21b0e9173381936"
  },
  {
   "metadata": {},
   "cell_type": "code",
   "outputs": [],
   "execution_count": null,
   "source": "# Your code here",
   "id": "112a91c4fb0db1dc"
  },
  {
   "metadata": {},
   "cell_type": "code",
   "outputs": [],
   "execution_count": null,
   "source": "",
   "id": "4925c852794c4f0b"
  }
 ],
 "metadata": {
  "kernelspec": {
   "display_name": "Python 3",
   "language": "python",
   "name": "python3"
  },
  "language_info": {
   "codemirror_mode": {
    "name": "ipython",
    "version": 2
   },
   "file_extension": ".py",
   "mimetype": "text/x-python",
   "name": "python",
   "nbconvert_exporter": "python",
   "pygments_lexer": "ipython2",
   "version": "2.7.6"
  }
 },
 "nbformat": 4,
 "nbformat_minor": 5
}
