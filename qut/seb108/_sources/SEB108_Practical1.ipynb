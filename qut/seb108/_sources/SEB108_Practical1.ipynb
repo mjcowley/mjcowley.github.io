{
 "nbformat": 4,
 "nbformat_minor": 0,
 "metadata": {
  "colab": {
   "provenance": []
  },
  "kernelspec": {
   "name": "python3",
   "language": "python",
   "display_name": "Python 3 (ipykernel)"
  },
  "language_info": {
   "name": "python",
   "version": "3.8.5",
   "mimetype": "text/x-python",
   "file_extension": ".py"
  }
 },
 "cells": [
  {
   "metadata": {},
   "cell_type": "markdown",
   "source": "Let's begin by understanding what a *declaration* is. Python acts as a highly advanced calculator designed for complex calculations, and many Python programs are sequences of simple mathematical operations executed on data. To handle more intricate data than what you'd input into a standard calculator, Python enables the creation of variables. These variables store values for future reference. Run each of the cells in sequence below:"
  },
  {
   "cell_type": "code",
   "source": [
    "variable_1 = 2"
   ],
   "metadata": {
    "collapsed": false
   },
   "outputs": [],
   "execution_count": null
  },
  {
   "cell_type": "code",
   "source": [
    "variable_2 = 3"
   ],
   "metadata": {
    "collapsed": false
   },
   "outputs": [],
   "execution_count": null
  },
  {
   "cell_type": "code",
   "source": [
    "output_1 = variable_1 + variable_2"
   ],
   "metadata": {
    "collapsed": false
   },
   "outputs": [],
   "execution_count": null
  },
  {
   "cell_type": "code",
   "source": [
    "print(output_1)"
   ],
   "metadata": {
    "collapsed": false
   },
   "outputs": [],
   "execution_count": null
  },
  {
   "cell_type": "markdown",
   "source": [
    "I simply saved the numbers 2 and 3 into variables, choosing the basic names 'variable_1' and 'variable_2', and then calculated their sum. Notice the underscore in the variable names. **Spaces_aren't_allowed_in_variable_names**, so underscores are commonly used instead. We'll discuss variable naming best practices later on.\n",
    "\n",
    "You might wonder, ''Why bother declaring those variables and then adding them, instead of directly calculating:''"
   ],
   "metadata": {
    "collapsed": false
   }
  },
  {
   "cell_type": "code",
   "source": [
    "2+3"
   ],
   "metadata": {
    "collapsed": false
   },
   "outputs": [],
   "execution_count": null
  },
  {
   "cell_type": "markdown",
   "source": [
    "In this instance, you're spot on. If my goal was simply to find the sum of 2 and 3, I could have directly inputted it. Moreover, should there have been a need to store that result, I could have easily done so:"
   ],
   "metadata": {
    "collapsed": false
   }
  },
  {
   "cell_type": "code",
   "source": [
    "output_2 = 2+3"
   ],
   "metadata": {
    "collapsed": false
   },
   "outputs": [],
   "execution_count": null
  },
  {
   "cell_type": "markdown",
   "source": [
    "And now, I can at any time look at that:"
   ],
   "metadata": {
    "collapsed": false
   }
  },
  {
   "cell_type": "code",
   "source": [
    "print(output_2)"
   ],
   "metadata": {
    "collapsed": false
   },
   "outputs": [],
   "execution_count": null
  },
  {
   "cell_type": "markdown",
   "source": [
    "Or, I can use it in further calculations:"
   ],
   "metadata": {
    "collapsed": false
   }
  },
  {
   "cell_type": "code",
   "source": [
    "output_3 = output_1 + output_2"
   ],
   "metadata": {
    "collapsed": false
   },
   "outputs": [],
   "execution_count": null
  },
  {
   "cell_type": "code",
   "source": [
    "print(output_3)"
   ],
   "metadata": {
    "collapsed": false
   },
   "outputs": [],
   "execution_count": null
  },
  {
   "cell_type": "markdown",
   "source": [
    "This is a great opportunity to explore the basic mathematical operations Python offers, two of which we've already encountered. The following lists the basic mathematical operations in Python:"
   ],
   "metadata": {
    "collapsed": false
   }
  },
  {
   "cell_type": "code",
   "source": [
    "# Perform basic mathematical operations <- this is a comment, which the cell ignores! Use the \"#\" symbol to comment in Python.\n",
    "addition = 5 + 5\n",
    "subtraction = 5 - 5\n",
    "multiplication = 5 * 5\n",
    "division = 5 / 6 \n",
    "exponentiation = 5**2\n",
    "modulus = 5 % 3"
   ],
   "metadata": {
    "collapsed": false
   },
   "outputs": [],
   "execution_count": null
  },
  {
   "cell_type": "code",
   "source": [
    "# Print results with labels\n",
    "print(\"Addition: \", addition)\n",
    "print(\"Subtraction: \", subtraction)\n",
    "print(\"Multiplication: \", multiplication)\n",
    "print(\"Division: \", division)\n",
    "print(\"Exponentiation: \", exponentiation)\n",
    "print(\"Modulus: \", modulus)"
   ],
   "metadata": {
    "collapsed": false
   },
   "outputs": [],
   "execution_count": null
  },
  {
   "cell_type": "markdown",
   "source": [
    "<br>\n",
    "<img src=\"https://mjcowley.github.io/images/exercise_python.png\" alt=\"Exercise\" width=\"800\"/>"
   ],
   "metadata": {
    "collapsed": false
   }
  },
  {
   "cell_type": "markdown",
   "source": [
    "> ### Exercise 1: A simple calculation"
   ],
   "metadata": {
    "collapsed": false
   }
  },
  {
   "cell_type": "markdown",
   "source": "In the box below, create three variables which hold your age and the ages of two other people you know. Then, set a variable named \"age_average\" that is equal to the average of your three ages. Be careful of order of operations! You can group operations, just like in [PEMDAS](https://www.mathsisfun.com/operation-order-pemdas.html) math, using soft parenthesis \"()\".",
   "metadata": {
    "collapsed": false
   }
  },
  {
   "cell_type": "code",
   "source": [
    "#your code here"
   ],
   "metadata": {
    "collapsed": false
   },
   "outputs": [],
   "execution_count": null
  },
  {
   "cell_type": "markdown",
   "source": [
    "## Data Types in Python"
   ],
   "metadata": {
    "collapsed": false
   }
  },
  {
   "cell_type": "markdown",
   "source": [
    "Until now, we've only dealt with numeric data types, namely integers and floats. To check the data type of a variable at any given time, you can use the `type()` function.\n"
   ],
   "metadata": {
    "collapsed": false
   }
  },
  {
   "cell_type": "code",
   "source": [
    "x = 2\n",
    "y = 3.0\n",
    "print(type(x))\n",
    "print(type(y))"
   ],
   "metadata": {
    "collapsed": false
   },
   "outputs": [],
   "execution_count": null
  },
  {
   "cell_type": "markdown",
   "source": [
    "While fundamentally, your data might be represented as numbers, Python's versatility is showcased through its various data types designed for organising numbers and more. Below are Python's essential data types:\n",
    "\n",
    "- **Integers**: Whole numbers without a fractional part.\n",
    "- **Floats**: Numbers with a decimal point.\n",
    "- **Booleans**: `True` or `False` values.\n",
    "- **Lists**: Ordered collections of items.\n",
    "- **Dictionaries**: Collections of items accessed by unique keys.\n",
    "- **Strings**: Textual data enclosed in quotes.\n",
    "- **Tuples**: Ordered collections like lists but immutable.\n",
    "\n",
    "In the upcoming sections, we'll dive into these data types, except for integers and floats, which we have already discussed above.\n"
   ],
   "metadata": {
    "collapsed": false
   }
  },
  {
   "cell_type": "markdown",
   "source": [
    "### Booleans"
   ],
   "metadata": {
    "collapsed": false
   }
  },
  {
   "cell_type": "markdown",
   "source": [
    "Booleans can only be in one of two states: `True` or `False`. Assign a variable to `True` or `False` below, and notice how Python syntax highlights these keywords, indicating their special role.\n"
   ],
   "metadata": {
    "collapsed": false
   }
  },
  {
   "cell_type": "code",
   "source": [
    "# Assigning a boolean value to a variable\n",
    "is_sunny = True\n",
    "\n",
    "# Checking the value\n",
    "print(is_sunny)"
   ],
   "metadata": {
    "collapsed": false
   },
   "outputs": [],
   "execution_count": null
  },
  {
   "cell_type": "markdown",
   "source": [
    "Booleans are incredibly useful in **conditional statements**, where we tell the code: \"If a certain condition is `True`, do 'X'; else, if another condition is `True`, do 'Y'.\" \n",
    "\n",
    "Often, we're using booleans without even realising it.\n"
   ],
   "metadata": {
    "collapsed": false
   }
  },
  {
   "cell_type": "markdown",
   "source": [
    "### Lists"
   ],
   "metadata": {
    "collapsed": false
   }
  },
  {
   "cell_type": "markdown",
   "source": [
    "Lists are Python's most versatile containers. You can put nearly anything inside a list, including different data types or even other lists. However, the practicality of mixed-type lists can be limited — the benefit of storing a series of numbers in a list is that you can perform operations on them collectively without concern for compatibility issues. Here's how to create a list:\n"
   ],
   "metadata": {
    "collapsed": false
   }
  },
  {
   "cell_type": "code",
   "source": [
    "# Defining a list\n",
    "my_list = [1, \"a_string\", True, 3.14, [2, 4, 6]]\n",
    "\n",
    "# Printing the list\n",
    "print(my_list)"
   ],
   "metadata": {
    "collapsed": false
   },
   "outputs": [],
   "execution_count": null
  },
  {
   "cell_type": "markdown",
   "source": [
    "The above list is somewhat chaotic – it's rare to want or need a list with such diverse contents. However, it serves to demonstrate that Python is flexible about the types of items you can include in a list. Beyond manually specifying list contents, Python offers functions that can automatically generate lists, especially useful for creating sequences with a regular pattern:\n"
   ],
   "metadata": {
    "collapsed": false
   }
  },
  {
   "cell_type": "code",
   "source": [
    "# Generate a list with a regular form using a list comprehension\n",
    "even_numbers = [x for x in range(2, 21, 2)]\n",
    "\n",
    "# Printing the list\n",
    "print(even_numbers)"
   ],
   "metadata": {
    "collapsed": false
   },
   "outputs": [],
   "execution_count": null
  },
  {
   "cell_type": "markdown",
   "source": [
    "This Python snippet demonstrates the use of a list comprehension to generate a list of even numbers. Here's how it works:\n",
    "\n",
    "- `range(2, 21, 2)` creates a sequence of numbers starting from 2 up to (but not including) 21, with a step of 2. This step ensures that only even numbers are included.\n",
    "- `[x for x in range(2, 21, 2)]` iterates over each number `x` in the sequence, adding `x` to the list.\n",
    "- The result is a list of even numbers from 2 to 20, which is then printed out.\n",
    "\n",
    "List comprehensions offer a concise way to create lists, making this method both efficient and easy to read.\n"
   ],
   "metadata": {
    "collapsed": false
   }
  },
  {
   "cell_type": "markdown",
   "source": [
    "<br>\n",
    "<img src=\"https://mjcowley.github.io/images/exercise_python.png\" alt=\"Exercise\" width=\"800\"/>"
   ],
   "metadata": {
    "collapsed": false
   }
  },
  {
   "cell_type": "markdown",
   "source": [
    "> ## Exercise 2: Odd Count\n",
    "\n",
    "Generate a list below containing the odd numbers 1, 3, 5, 7, ... 99 and save it into a variable called odd_count. Then, below, print it to verify your solution."
   ],
   "metadata": {
    "collapsed": false
   }
  },
  {
   "cell_type": "code",
   "source": [
    "#your code here"
   ],
   "metadata": {
    "collapsed": false
   },
   "outputs": [],
   "execution_count": null
  },
  {
   "cell_type": "markdown",
   "source": [
    "### Indexing"
   ],
   "metadata": {
    "collapsed": false
   }
  },
  {
   "cell_type": "markdown",
   "source": "To view the contents of a list, we simply print it:\n",
   "metadata": {
    "collapsed": false
   }
  },
  {
   "metadata": {},
   "cell_type": "code",
   "source": "print(my_list)",
   "outputs": [],
   "execution_count": null
  },
  {
   "metadata": {},
   "cell_type": "markdown",
   "source": "However, there are instances where we need to extract specific elements for calculations. This is where **indexing** or \"slicing\" the list comes into play. In Python, list indexing starts at 0, meaning the first element is at the \"0th index\". Here’s how you can access elements using the list defined previously:"
  },
  {
   "cell_type": "code",
   "source": [
    "my_list[0]"
   ],
   "metadata": {
    "collapsed": false
   },
   "outputs": [],
   "execution_count": null
  },
  {
   "cell_type": "markdown",
   "source": [
    "We put closed brackets at the end of the variable name and specify which index we want. We can also pull multiple elements at once by specifying a range of indices (the first number is inclusive, the second is exclusive):"
   ],
   "metadata": {
    "collapsed": false
   }
  },
  {
   "cell_type": "code",
   "source": [
    "my_list[0:2]"
   ],
   "metadata": {
    "collapsed": false
   },
   "outputs": [],
   "execution_count": null
  },
  {
   "cell_type": "markdown",
   "source": [
    "We can also specify a skip value, which is the third number in the brackets. This number tells Python how many elements to skip between each element it pulls:"
   ],
   "metadata": {
    "collapsed": false
   }
  },
  {
   "cell_type": "code",
   "source": [
    "my_list[0:5:2]"
   ],
   "metadata": {
    "collapsed": false
   },
   "outputs": [],
   "execution_count": null
  },
  {
   "cell_type": "markdown",
   "source": [
    "What if we need to access an element within a nested list [2, 4, 6]? This situation calls for **double indexing**. Additionally, this is a good opportunity to introduce **negative indexing**, a handy feature that allows counting backwards from the end of a list, simplifying access to its latter elements:\n"
   ],
   "metadata": {
    "collapsed": false
   }
  },
  {
   "cell_type": "code",
   "source": [
    "my_list[-1][1]"
   ],
   "metadata": {
    "collapsed": false
   },
   "outputs": [],
   "execution_count": null
  },
  {
   "cell_type": "markdown",
   "source": [
    "The above code snippet demonstrates how to access the number 4 within the nested list [2, 4, 6]. The negative index `-1` refers to the last element in the list, which is itself a list. The index `[1]` then extracts the second element from that list."
   ],
   "metadata": {
    "collapsed": false
   }
  },
  {
   "metadata": {},
   "cell_type": "markdown",
   "source": [
    "So, to summarise, indexing allows you to access individual elements of an iterable, such as a list or a string, using their position.\n",
    "\n",
    "- **Positive Indexing**: Starts from 0 at the beginning of the iterable and increases by 1 for each subsequent element.\n",
    "- **Negative Indexing**: Starts from -1 for the last element, -2 for the second last, and so on, making it easy to access elements from the end.\n",
    "\n",
    "Here's a table illustrating both positive and negative indexing for the string `\"Python\"`:\n",
    "\n",
    "| Index | Character |\n",
    "|-------|-----------|\n",
    "| 0     | P         |\n",
    "| 1     | y         |\n",
    "| 2     | t         |\n",
    "| 3     | h         |\n",
    "| 4     | o         |\n",
    "| 5     | n         |\n",
    "| -6    | P         |\n",
    "| -5    | y         |\n",
    "| -4    | t         |\n",
    "| -3    | h         |\n",
    "| -2    | o         |\n",
    "| -1    | n         |\n",
    "\n",
    "This table demonstrates how each character in the string can be accessed using both positive and negative indices.\n"
   ]
  },
  {
   "cell_type": "markdown",
   "source": [
    "<br>\n",
    "<img src=\"https://mjcowley.github.io/images/exercise_python.png\" alt=\"Exercise\" width=\"800\"/>"
   ],
   "metadata": {
    "collapsed": false
   }
  },
  {
   "cell_type": "markdown",
   "source": [
    "> ## Exercise 3: Indexing"
   ],
   "metadata": {
    "collapsed": false
   }
  },
  {
   "cell_type": "markdown",
   "source": "In the cell below, using our list named my_list that contains an element \"a_string\" at a certain position, write a Python command to output the letter 's' from the string \"a_string\".",
   "metadata": {
    "collapsed": false
   }
  },
  {
   "cell_type": "code",
   "source": [
    "#your code here"
   ],
   "metadata": {
    "collapsed": false
   },
   "outputs": [],
   "execution_count": null
  },
  {
   "cell_type": "markdown",
   "source": [
    "### Dictionaries"
   ],
   "metadata": {
    "collapsed": false
   }
  },
  {
   "cell_type": "markdown",
   "source": [
    "Dictionaries function similarly to lists, but instead of using numeric indices to access elements, we use unique \"keys\" to associate with each \"value\". Here's an example:\n"
   ],
   "metadata": {
    "collapsed": false
   }
  },
  {
   "cell_type": "code",
   "source": [
    "# Create a dictionary\n",
    "my_dict = {\"name\": \"Alice\", \"age\": 30, \"city\": \"Sydney\"}\n",
    "\n",
    "# Accessing a value by its key\n",
    "print(my_dict[\"name\"])"
   ],
   "metadata": {
    "collapsed": false
   },
   "outputs": [],
   "execution_count": null
  },
  {
   "cell_type": "markdown",
   "source": [
    "This Python snippet demonstrates how to create a dictionary and access its elements. Dictionaries store data in key-value pairs, allowing you to quickly access a value by specifying its corresponding key:\n",
    "\n",
    "- **Creating a Dictionary:** We define `my_dict` with three key-value pairs, mapping \"name\" to \"Alice\", \"age\" to 30, and \"city\" to \"Sydney\".\n",
    "- **Accessing a Value:** To retrieve a value, such as Alice's name, we use the syntax `my_dict[\"name\"]`, specifying the key to obtain its associated value.\n",
    "\n",
    "Dictionaries are designed to map keys to values without preserving any order. This characteristic is beneficial for data where the relationship between keys and values is more important than the sequence of items. It simplifies tasks like looking up specific information without needing to know an element's position, making dictionaries a powerful tool for organising and retrieving data based on meaningful associations rather than order.\n",
    "\n",
    "What if we wanted to add a new key-value pair to the dictionary? This is a simple task in Python:\n",
    "\n"
   ],
   "metadata": {
    "collapsed": false
   }
  },
  {
   "metadata": {},
   "cell_type": "code",
   "source": [
    "# Adding a new key-value pair\n",
    "my_dict[\"occupation\"] = \"Engineer\"\n",
    "\n",
    "# Inspecting the updated dictionary\n",
    "print(my_dict)"
   ],
   "outputs": [],
   "execution_count": null
  },
  {
   "metadata": {},
   "cell_type": "markdown",
   "source": "Great, but let's now modify the value of an existing key. To do this, we simply reassign the value to the key:"
  },
  {
   "metadata": {},
   "cell_type": "code",
   "source": [
    "# Modifying a value\n",
    "my_dict[\"age\"] = 31\n",
    "\n",
    "# Inspecting the updated dictionary\n",
    "print(my_dict)"
   ],
   "outputs": [],
   "execution_count": null
  },
  {
   "metadata": {},
   "cell_type": "markdown",
   "source": "As you can see, Alice is now 31 years old. This demonstrates how dictionaries are mutable, allowing you to change their contents as needed. Let's try one more change and remove a key-value pair:"
  },
  {
   "metadata": {},
   "cell_type": "code",
   "source": [
    "# Removing a key-value pair\n",
    "del my_dict[\"city\"]\n",
    "\n",
    "# Inspecting the updated dictionary\n",
    "print(my_dict)"
   ],
   "outputs": [],
   "execution_count": null
  },
  {
   "metadata": {},
   "cell_type": "markdown",
   "source": "Dictionary keys are unique and immutable, meaning they can't be changed once assigned. However, the values associated with these keys can be modified, added, or removed as needed. You will find Dictionaries are great for storing data that requires meaningful associations between keys and values, such as user profiles, product details, or any structured data that benefits from key-based retrieval."
  },
  {
   "cell_type": "markdown",
   "source": [
    "### Strings"
   ],
   "metadata": {
    "collapsed": false
   }
  },
  {
   "cell_type": "markdown",
   "source": [
    "We've previously encountered strings, which allow you to incorporate text (such as words or file paths) into your code that Python wouldn't inherently understand. Strings are incredibly versatile, capable of containing any character. When dealing with a data file comprising various data types, Python typically interprets it all as strings, leaving the conversion to more specific types, like integers or floats, up to you. Importantly, strings are iterable, meaning they can be indexed character by character, similar to lists.\n"
   ],
   "metadata": {
    "collapsed": false
   }
  },
  {
   "cell_type": "code",
   "source": [
    "# Defining a string\n",
    "my_string = \"Hello, world!\"\n",
    "\n",
    "# Accessing characters in the string\n",
    "first_char = my_string[0]  # 'H'\n",
    "last_char = my_string[-1]  # '!'\n",
    "\n",
    "# Printing the characters\n",
    "print(f\"First character: {first_char}\")\n",
    "print(f\"Last character: {last_char}\")"
   ],
   "metadata": {
    "collapsed": false
   },
   "outputs": [],
   "execution_count": null
  },
  {
   "cell_type": "markdown",
   "source": [
    "This snippet illustrates several key aspects of working with strings:\n",
    "\n",
    "- **Defining a String:** We create a simple string `my_string` with the value `\"Hello, world!\"` to show how text is stored.\n",
    "- **Accessing Characters:** Using our knowledge of indexing, we can extract specific characters from the string. `my_string[0]` retrieves the first character (`'H'`), while `my_string[-1]` fetches the last character (`'!'`), demonstrating how strings are iterable.\n",
    "- **Printing Characters:** The `print()` function displays the first and last characters. The \"f\" before the string literals indicates an **f-string**, which allows for the direct insertion of expressions into string literals using curly braces `{}`. This method simplifies the process of combining text and variables/data in output.\n",
    "\n",
    "Let's see what else we can do with strings. For instance, we can concatenate strings, which means combining them into a single string. This is achieved using the `+` operator:\n"
   ],
   "metadata": {
    "collapsed": false
   }
  },
  {
   "metadata": {},
   "cell_type": "code",
   "source": [
    "# Concatenating strings\n",
    "new_string = my_string + \" from Python\"\n",
    "print(new_string)"
   ],
   "outputs": [],
   "execution_count": null
  },
  {
   "metadata": {},
   "cell_type": "markdown",
   "source": "Here, we've combined the original string `\"Hello, world!\"` with the phrase `\" from Python\"`, creating a new string that reads `\"Hello, world! from Python\"`. This operation is known as string concatenation. Let's now try to replace a portion of the string with another string:"
  },
  {
   "metadata": {},
   "cell_type": "code",
   "source": [
    "# Replacing a substring\n",
    "replaced_string = my_string.replace(\"world\", \"Python\")\n",
    "print(replaced_string)"
   ],
   "outputs": [],
   "execution_count": null
  },
  {
   "metadata": {},
   "cell_type": "markdown",
   "source": "Here, we've replaced the substring `\"world\"` in the original string with `\"Python\"`, resulting in the new string `\"Hello, Python!\"`. This operation is known as string replacement. Next, let's try splitting a string into a list of substrings:"
  },
  {
   "metadata": {},
   "cell_type": "code",
   "source": [
    "# Splitting a string\n",
    "split_string = my_string.split(\",\")\n",
    "print(split_string)"
   ],
   "outputs": [],
   "execution_count": null
  },
  {
   "metadata": {},
   "cell_type": "markdown",
   "source": "Here, we've split the original string `\"Hello, world!\"` into a list of substrings, using the comma `\",\"` as the separator. The result is a list `['Hello', ' world!']`, where the comma has been removed. This operation is known as string splitting. Finally, let's try case conversion on a string:"
  },
  {
   "metadata": {},
   "cell_type": "code",
   "source": [
    "# Converting case\n",
    "upper_case = my_string.upper()\n",
    "lower_case = my_string.lower()\n",
    "print(upper_case)\n",
    "print(lower_case)"
   ],
   "outputs": [],
   "execution_count": null
  },
  {
   "metadata": {},
   "cell_type": "markdown",
   "source": [
    "Here, we've converted the original string `\"Hello, world!\"` to uppercase using the `upper()` method, resulting in `\"HELLO, WORLD!\"`. We've also converted the string to lowercase using the `lower()` method, resulting in `\"hello, world!\"`. These operations are known as case conversion. \n",
    "\n",
    "Strings are incredibly versatile, offering a wide range of methods for manipulating and extracting data. This flexibility makes them invaluable for working with textual data, such as user input, file contents, or any text-based information you encounter in your code."
   ]
  },
  {
   "cell_type": "markdown",
   "source": [
    "### Tuples"
   ],
   "metadata": {
    "collapsed": false
   }
  },
  {
   "cell_type": "markdown",
   "source": "Tuples are similar to lists, but they are immutable, meaning their contents cannot be changed after creation. This characteristic makes them useful for storing data that shouldn't be altered, such as a set of coordinates or a date. To understand, let's first inspect our list and attempt to modify it:",
   "metadata": {
    "collapsed": false
   }
  },
  {
   "cell_type": "code",
   "source": [
    "print(my_list)"
   ],
   "metadata": {
    "collapsed": false
   },
   "outputs": [],
   "execution_count": null
  },
  {
   "cell_type": "markdown",
   "source": [
    "Let's modify the second element of the list:"
   ],
   "metadata": {
    "collapsed": false
   }
  },
  {
   "cell_type": "code",
   "source": [
    "my_list[1] = \"new_string\"\n",
    "print(my_list)"
   ],
   "metadata": {
    "collapsed": false
   },
   "outputs": [],
   "execution_count": null
  },
  {
   "cell_type": "markdown",
   "source": [
    "Let's try the same with a tuple:"
   ],
   "metadata": {
    "collapsed": false
   }
  },
  {
   "cell_type": "code",
   "source": [
    "my_tuple = (1, \"a_string\", True, 3.14, [2, 4, 6])\n",
    "print(my_tuple)"
   ],
   "metadata": {
    "collapsed": false
   },
   "outputs": [],
   "execution_count": null
  },
  {
   "cell_type": "markdown",
   "source": [
    "Note a tuple is created using parentheses `()` instead of square brackets `[]`. Now, let's try to modify the second element of the tuple:"
   ],
   "metadata": {
    "collapsed": false
   }
  },
  {
   "cell_type": "code",
   "source": [
    "my_tuple[1] = \"new_string\""
   ],
   "metadata": {
    "collapsed": false
   },
   "outputs": [],
   "execution_count": null
  },
  {
   "cell_type": "markdown",
   "source": [
    "Notice the error message that appears when you try to modify the tuple. This is because tuples are immutable, meaning their contents cannot be changed after creation. This characteristic makes them useful for storing data that shouldn't be altered, such as a set of coordinates or a date."
   ],
   "metadata": {
    "collapsed": false
   }
  },
  {
   "metadata": {},
   "cell_type": "markdown",
   "source": "### Errors"
  },
  {
   "metadata": {},
   "cell_type": "markdown",
   "source": "There are two distinct types of errors in Python: **syntax errors** and **exceptions**. Syntax errors occur when the code is improperly written, such as a missing colon or parentheses. These errors are detected by Python before the code is executed, preventing the program from running. Let's generate a syntax error by omitting a closing parenthesis:\n"
  },
  {
   "metadata": {},
   "cell_type": "code",
   "source": [
    "# Syntax error\n",
    "print(\"Hello, world!\""
   ],
   "outputs": [],
   "execution_count": null
  },
  {
   "metadata": {},
   "cell_type": "markdown",
   "source": [
    "When you run this cell, a `SyntaxError` will be raised, indicating that a closing parenthesis is missing. This error message is Python's way of informing you that the code is improperly written and needs correction before it can be executed.\n",
    "\n",
    "The other type of error, exceptions, occurs when the code is syntactically correct but encounters an issue during execution. These errors are detected while the code is running, causing the program to halt. Let's generate an exception by attempting to divide by zero:"
   ]
  },
  {
   "metadata": {},
   "cell_type": "code",
   "source": [
    "# Exception\n",
    "result = 5 / 0"
   ],
   "outputs": [],
   "execution_count": null
  },
  {
   "metadata": {},
   "cell_type": "markdown",
   "source": [
    "When you run this cell, a `ZeroDivisionError` will be raised, indicating that you can't divide by zero. This error message is Python's way of informing you that the operation you attempted is mathematically impossible. Other possible errors include those listed in the table below.\n",
    "\n",
    "\n",
    "&nbsp;  \n",
    "\n",
    "| Exception                | Description                                                       |\n",
    "|--------------------------|-------------------------------------------------------------------|\n",
    "| ArithmeticError          | Raised when an error occurs in numeric calculations               |\n",
    "| AssertionError           | Raised when an assert statement fails                             |\n",
    "| AttributeError           | Raised when attribute reference or assignment fails               |\n",
    "| Exception                | Base class for all exceptions                                     |\n",
    "| EOFError                 | Raised when the input() method hits an \"end of file\" condition (EOF) |\n",
    "| FloatingPointError       | Raised when a floating point calculation fails                    |\n",
    "| GeneratorExit            | Raised when a generator is closed (with the close() method)       |\n",
    "| ImportError              | Raised when an imported module does not exist                     |\n",
    "| IndentationError         | Raised when indentation is not correct                            |\n",
    "| IndexError               | Raised when an index of a sequence does not exist                 |\n",
    "| KeyError                 | Raised when a key does not exist in a dictionary                  |\n",
    "| KeyboardInterrupt        | Raised when the user presses Ctrl+c, Ctrl+z or Delete             |\n",
    "| LookupError              | Raised when errors raised can't be found                          |\n",
    "| MemoryError              | Raised when a program runs out of memory                          |\n",
    "| NameError                | Raised when a variable does not exist                             |\n",
    "| NotImplementedError      | Raised when an abstract method requires an inherited class to override the method |\n",
    "| OSError                  | Raised when a system related operation causes an error            |\n",
    "| OverflowError            | Raised when the result of a numeric calculation is too large      |\n",
    "| ReferenceError           | Raised when a weak reference object does not exist                |\n",
    "| RuntimeError             | Raised when an error occurs that do not belong to any specific exceptions |\n",
    "| StopIteration            | Raised when the next() method of an iterator has no further values |\n",
    "| SyntaxError              | Raised when a syntax error occurs                                 |\n",
    "| TabError                 | Raised when indentation consists of tabs or spaces                |\n",
    "| SystemError              | Raised when a system error occurs                                 |\n",
    "| SystemExit               | Raised when the sys.exit() function is called                     |\n",
    "| TypeError                | Raised when two different types are combined                      |\n",
    "| UnboundLocalError        | Raised when a local variable is referenced before assignment      |\n",
    "| UnicodeError             | Raised when a unicode problem occurs                              |\n",
    "| UnicodeEncodeError       | Raised when a unicode encoding problem occurs                     |\n",
    "| UnicodeDecodeError       | Raised when a unicode decoding problem occurs                     |\n",
    "| UnicodeTranslateError    | Raised when a unicode translation problem occurs                  |\n",
    "| ValueError               | Raised when there is a wrong value in a specified data type       |\n",
    "| ZeroDivisionError        | Raised when the second operator in a division is zero             |\n",
    "\n",
    "While you are unlikely to encounter all of these errors, it's essential to understand the most common ones and how to interpret their messages. Python's error messages are designed to be informative, helping you identify the issue and its location in your code, making you a more effective programmer.\n",
    "\n",
    "While it is outside the scope of this session, you can write programs to handle exceptions, allowing your code to continue running even when errors occur. This is a crucial aspect of programming, ensuring your code can gracefully handle unexpected issues and continue functioning as intended. Within Jupiter notebooks, these are a little easier to catch as the error will be displayed in the output of the cell."
   ]
  },
  {
   "cell_type": "markdown",
   "source": [
    "<br>\n",
    "<img src=\"https://mjcowley.github.io/images/exercise_python.png\" alt=\"Exercise\" width=\"800\"/>"
   ],
   "metadata": {
    "collapsed": false
   }
  },
  {
   "cell_type": "markdown",
   "source": [
    "> ## Exercise 4: Integrating Basic Concepts"
   ],
   "metadata": {
    "collapsed": false
   }
  },
  {
   "cell_type": "markdown",
   "source": [
    "Let's tackle a comprehensive example that incorporates the elements we've discussed.\n",
    "\n",
    "Imagine you're teaching the introductory Quantum Mechanics course at QUT. Surprisingly, after grading the mid-semester exam, you find many scores lower than expected, despite considering the exam quite fair!\n",
    "\n",
    "To avoid alarming students with their individual scores, you opt to calculate the exam's statistical distribution first, allowing students to see where their score stands in relation to the class average and other statistics.\n",
    "\n",
    "The exam scores (out of 120) are as follows: 100, 68, 40, 78, 81, 65, 39, 118, 46, 78, 9, 37, 43, 87, 54, 29, 95, 87, 111, 65, 43, 53, 47, 16, 98, 82, 58, 5, 49, 67, 60, 76, 16, 111, 65, 61, 73, 63, 115, 72, 76, 48, 75, 101, 45, 46, 82, 57, 17, 88, 90, 53, 32, 28, 50, 91, 93, 7, 63, 88, 55, 37, 67, 0, 79.\n",
    "\n",
    "Begin by placing these numbers into a list named \"scores\". You can copy and paste the scores directly and add the list syntax in a cell below.\n"
   ],
   "metadata": {
    "collapsed": false
   }
  },
  {
   "cell_type": "code",
   "source": [
    "#your code here\n",
    "scores ="
   ],
   "metadata": {
    "collapsed": false
   },
   "outputs": [],
   "execution_count": null
  },
  {
   "cell_type": "markdown",
   "source": [
    "Our next step is to calculate the average score. While Python has libraries and functions for streamlined calculations, mastering the manual approach is invaluable at this stage.\n",
    " \n",
    "First, start by summing all values using the `sum()` function on the list. This function takes a list as an argument and returns the sum of all its elements.\n",
    "\n",
    "Next, to calculate an average, you take your sum then divide by the count of those numbers using the `len()` function.\n",
    "\n",
    "With this method, go ahead and define a variable called \"average_score\" in the cell below to compute the average from the scores list."
   ],
   "metadata": {
    "collapsed": false
   }
  },
  {
   "cell_type": "code",
   "source": [
    "#your code here\n",
    "average_score ="
   ],
   "metadata": {
    "collapsed": false
   },
   "outputs": [],
   "execution_count": null
  },
  {
   "cell_type": "markdown",
   "source": [
    "Now that we've calculated the average score for the exam, let's convert that into a percentage. In the cell below, compute the average score's percentage by dividing it by the total points available on the test and then multiplying by 100. Execute the cell to see a sentence displaying the percentage. Examine the provided line that achieves this to understand how it functions.\n"
   ],
   "metadata": {
    "collapsed": false
   }
  },
  {
   "cell_type": "code",
   "source": [
    "#your code here"
   ],
   "metadata": {
    "collapsed": false
   },
   "outputs": [],
   "execution_count": null
  },
  {
   "cell_type": "markdown",
   "source": [
    "Another crucial metric for students is the standard deviation from the mean. This statistic is especially relevant in educational contexts where grades are determined on a curve, a method not utilised in SEB108. The standard deviation provides insight into the spread of exam scores around this average, indicating the variability of students' performance.\n",
    "\n",
    "The formula for calculating the standard deviation is:\n",
    "\n",
    "$$\n",
    "s = \\sqrt{\\frac{1}{N-1} \\sum_{i=1}^{N} (x_i - \\bar{X)^2}}\n",
    "$$\n",
    "\n",
    "In this equation:\n",
    "\n",
    "- $s$ is the standard deviation, indicating how scores deviate, on average, from the mean score.\n",
    "- $\\bar{X}$ stands for the average (mean) score.\n",
    "- $N$ represents the total count of scores, offering a denominator that normalizes the sum of squared deviations.\n",
    "- $x_i$ refers to each individual score in the dataset.\n",
    "- The expression $\\sum_{1}^{N}(x_i - \\bar{X})^2$ calculates the sum of squared differences between each score and the mean, highlighting the collective variance from the average.\n",
    "\n",
    "This formula's numerator squares the deviation of each score from the mean before summing these values, which is then normalised by $N-1$ rather than $N$ to account for sample variance in statistics, providing a more accurate representation of dispersion for samples rather than entire populations.\n"
   ],
   "metadata": {
    "collapsed": false
   }
  },
  {
   "cell_type": "markdown",
   "source": [
    "We're already familiar with obtaining `N`, and we understand the value of $\\mu$. To compute the standard deviation, the challenging part is determining the numerator of the fraction. Given the tools we've discussed so far, this can be somewhat complex. Hence, I'll introduce a new concept: Numpy arrays, which stand for numerical Python. We'll dive deeper into Numpy arrays next week. For now, take a look at the example below to grasp why they're instrumental for our calculations:\n"
   ],
   "metadata": {
    "collapsed": false
   }
  },
  {
   "cell_type": "markdown",
   "source": [
    "First, let's try to calculate the denominator of the standard deviation formula. This involves $N-1$."
   ],
   "metadata": {
    "collapsed": false
   }
  },
  {
   "cell_type": "code",
   "source": [
    "print(scores-1)"
   ],
   "metadata": {
    "collapsed": false
   },
   "outputs": [],
   "execution_count": null
  },
  {
   "cell_type": "markdown",
   "source": [
    "Okay, so I can't subtract an integer from a list. What if I try NumPy arrays?"
   ],
   "metadata": {
    "collapsed": false
   }
  },
  {
   "cell_type": "code",
   "source": [
    "import numpy as np\n",
    "arr_version = np.array(scores)\n",
    "print(arr_version-1)"
   ],
   "metadata": {
    "collapsed": false
   },
   "outputs": [],
   "execution_count": null
  },
  {
   "cell_type": "markdown",
   "source": [
    "If you look, you should see that each of those scores is the original score with one subtracted off it. This is the power of NumPy arrays. They allow us to perform operations on entire arrays at once, which is crucial for calculating the standard deviation.\n",
    "\n",
    "It's now your turn to calculate numerator component. In the cell below, fill in the variable I'm calling \"top_frac\" to calculate this quantity:\n",
    "$$\n",
    "\\sum_{i=1}^N (x_i - \\mu)^2\n",
    "$$\n",
    "\n",
    "Notice here that you don't have to actually calculate it one by one - if we first compute a single array that represents each score with the mean subtracted off and then that value squared, then we finish off top_frac just by summing up that array as we've done before. Feel free to use my variable \"arr_version\"."
   ],
   "metadata": {
    "collapsed": false
   }
  },
  {
   "cell_type": "code",
   "source": [
    "top_frac = #your code here\n",
    "print(top_frac)"
   ],
   "metadata": {
    "collapsed": false
   },
   "outputs": [],
   "execution_count": null
  },
  {
   "cell_type": "markdown",
   "source": [
    "With that done, we can easily apply the formula to get the final STD - **Hint:** the function np.sqrt() will be useful here."
   ],
   "metadata": {
    "collapsed": false
   }
  },
  {
   "cell_type": "code",
   "source": [
    "STD_scores = #your code here\n",
    "print(STD_scores)"
   ],
   "metadata": {
    "collapsed": false
   },
   "outputs": [],
   "execution_count": null
  },
  {
   "cell_type": "markdown",
   "source": [
    "Great! If all steps were followed correctly, you'd discover the average score is 62/120, and the standard deviation is 28. Let's now spoil everything and I will show you how you could have done this with one line:\n"
   ],
   "metadata": {
    "collapsed": false
   }
  },
  {
   "cell_type": "code",
   "source": [
    "STD_scores_2 = np.std(arr_version, ddof=1)\n",
    "print(STD_scores_2)"
   ],
   "metadata": {
    "collapsed": false
   },
   "outputs": [],
   "execution_count": null
  },
  {
   "cell_type": "markdown",
   "source": [
    "What is this `ddof` in NumPy?\n",
    "\n",
    "- Setting `ddof=0` (the default) instructs NumPy to divide by `N`, which is suitable for calculating the population variance and standard deviation.\n",
    "- Setting `ddof=1` modifies the calculation to divide by `N-1`, making it suitable for sample variance and standard deviation. \n",
    "\n",
    "This distinction is crucial in statistics, ensuring that the sample standard deviation accurately reflects the variability of the data. For our purposes, we're working with a sample of exam scores, so we set `ddof=1` to calculate the standard deviation correctly. We will invesigate statistics further in a later practical.\n"
   ],
   "metadata": {
    "collapsed": false
   }
  },
  {
   "cell_type": "markdown",
   "source": [
    "Just for a bit of fun, let's create an informative plot to visually represent the students' scores. Don't stress about understanding the plotting details for now — we'll explore this in a later practical."
   ],
   "metadata": {
    "collapsed": false
   }
  },
  {
   "cell_type": "code",
   "source": [
    "import seaborn as sns\n",
    "import matplotlib.pyplot as plt\n",
    "\n",
    "def plot_errorbars(arg, **kws):\n",
    "    plt.hist(scores,20,density=True)\n",
    "    plt.axis('off')\n",
    "    plt.show()\n",
    "    f, axs = plt.subplots(2, figsize=(7, 2), sharex=True)\n",
    "    sns.pointplot(x=scores, errorbar=arg, **kws, capsize=.3, ax=axs[0])\n",
    "    sns.stripplot(x=scores, jitter=.3, ax=axs[1])\n",
    "    \n",
    "plot_errorbars(\"sd\")"
   ],
   "metadata": {
    "collapsed": false
   },
   "outputs": [],
   "execution_count": null
  },
  {
   "cell_type": "markdown",
   "source": [
    "This plot is a combination of a simplified histogram, a point plot, and a strip plot. Here's what each part represents:\n",
    "\n",
    "Histogram\n",
    "- The top plot is a **Histogram** that displays the frequency distribution of your exam scores.\n",
    "- Each bar represents a range of scores, and the height shows how many students scored within that range.\n",
    "- This visual helps us understand common score ranges and identify where most students fall.\n",
    "\n",
    "Point and Strip Plots\n",
    "- Below the histogram, the **Point Plot** indicates the average (mean) score with a horizontal line for the standard deviation.\n",
    "- The mean score, represented by the dot, is around 62. The line extending from it shows the standard deviation, which is about 28.3 points.\n",
    "- This means most scores are within 28.3 points above or below the average, giving you a sense of how spread out the scores are.\n",
    "- The **Strip Plot** displays each student's individual score, giving us a look at each unique score without them stacking on top of each other.\n",
    "\n",
    "What This Means for the Students\n",
    "- If their score is close to the average (62), they're in the most common score range for this exam.\n",
    "- If their score is far from the mean, the standard deviation helps them understand how their score compares with the rest of the class.\n",
    "- Remember, this distribution is a snapshot of this particular exam performance and each exam can have a different pattern.\n",
    "\n",
    "What This Means for you, the Teacher\n",
    "- The histogram helps you understand the distribution of scores, identifying common score ranges and outliers.\n",
    "- Perhaps you set the exam too difficult here and you may need to adjust in the future!\n"
   ],
   "metadata": {
    "collapsed": false
   }
  },
  {
   "cell_type": "markdown",
   "source": [
    "# Further Exploration and Practice\n",
    "\n",
    "Congratulations on completing your SEB108 practical session on Python in Google Colab! You've made a significant first step towards mastering Python for data analysis and visualisation.\n",
    "\n",
    "As you gear up for the next session, here's what you can look forward to:\n",
    "- **Loading Raw Data:** We'll explore how to import raw data into Python, set you up for working with real-world datasets, and begin to understand the preprocessing that might be necessary.\n",
    "- **Advanced Plotting Techniques:** We'll dive deeper into the plotting capabilities of Python, learning how to create more complex and informative visualisations that can provide deeper insights into our data.\n",
    "\n",
    "To bolster your understanding and prepare for what's ahead, consider exploring the following resources:\n",
    "\n",
    "- **Codecademy's Python Course:** An interactive platform for learning Python with a hands-on approach. Perfect for reinforcing what you've learned and building on it. [Codecademy's Python Course](https://www.codecademy.com/learn/learn-python-3).\n",
    "- **Kaggle's Python Course:** Focused on data science applications, this course is ideal for those looking to delve into data manipulation and analysis. [Kaggle's Python Course](https://www.kaggle.com/learn/python).\n",
    "- **Real Python:** Provides a wealth of tutorials and exercises, beneficial for all levels of Python developers. [Real Python](https://realpython.com/).\n",
    "- **Python Official Documentation:** For in-depth learning, nothing beats the [Python official documentation](https://docs.python.org/3/). Use it to clarify concepts and learn about new features of the language.\n",
    "\n",
    "Keep practicing and experimenting with code outside of class to solidify your skills. We look forward to seeing you next week for another exciting step in your data science journey with Python. Happy coding!\n"
   ],
   "metadata": {
    "collapsed": false
   }
  }
 ]
}
